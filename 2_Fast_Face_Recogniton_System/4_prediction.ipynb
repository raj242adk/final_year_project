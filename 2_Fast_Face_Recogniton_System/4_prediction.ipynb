{
 "cells": [
  {
   "cell_type": "code",
   "execution_count": 1,
   "id": "021ab823-38f6-442a-b093-38636ba09ed1",
   "metadata": {
    "ExecuteTime": {
     "end_time": "2024-03-18T07:37:26.976601Z",
     "start_time": "2024-03-18T07:37:23.710696Z"
    }
   },
   "outputs": [
    {
     "name": "stdout",
     "output_type": "stream",
     "text": [
      "Applied providers: ['CPUExecutionProvider'], with options: {'CPUExecutionProvider': {}}\n",
      "find model: insightface_model\\models\\buffalo_sc\\det_500m.onnx detection [1, 3, '?', '?'] 127.5 128.0\n",
      "Applied providers: ['CPUExecutionProvider'], with options: {'CPUExecutionProvider': {}}\n",
      "find model: insightface_model\\models\\buffalo_sc\\w600k_mbf.onnx recognition ['None', 3, 112, 112] 127.5 127.5\n",
      "set det-size: (640, 640)\n"
     ]
    }
   ],
   "source": [
    "import face_rec"
   ]
  },
  {
   "cell_type": "code",
   "execution_count": 2,
   "id": "a6d73eb2-11cb-476c-972d-4ff95d797d5a",
   "metadata": {
    "ExecuteTime": {
     "end_time": "2024-03-18T07:37:28.483141Z",
     "start_time": "2024-03-18T07:37:28.470088Z"
    }
   },
   "outputs": [],
   "source": [
    "import pandas as pd\n",
    "import numpy as np\n",
    "import cv2\n",
    "from cv2 import FONT_HERSHEY_DUPLEX\n"
   ]
  },
  {
   "cell_type": "code",
   "execution_count": 3,
   "id": "171062d0-71e4-4db0-8b35-fc4d5ef6c43e",
   "metadata": {
    "ExecuteTime": {
     "end_time": "2024-03-18T07:37:31.730220Z",
     "start_time": "2024-03-18T07:37:30.174965Z"
    }
   },
   "outputs": [
    {
     "data": {
      "text/plain": "True"
     },
     "execution_count": 3,
     "metadata": {},
     "output_type": "execute_result"
    }
   ],
   "source": [
    "face_rec.r.ping()"
   ]
  },
  {
   "cell_type": "code",
   "execution_count": 4,
   "id": "ebde0796-b7d5-4bda-9c5e-8db0662fde48",
   "metadata": {
    "ExecuteTime": {
     "end_time": "2024-03-18T07:37:33.347898Z",
     "start_time": "2024-03-18T07:37:32.682763Z"
    }
   },
   "outputs": [
    {
     "data": {
      "text/plain": "                    name_role  \\\n0         CHRIS EVANS@STUDENT   \n1   Rabindra Adhikari@Student   \n2            Sambhavi@Student   \n3               james@Teacher   \n4        BARACK OBAMA@TEACHER   \n5       Bharat Vinaju@Teacher   \n6      ANGELINA JOLIE@STUDENT   \n7            Rabindra@Student   \n8      MORGAN FREEMAN@TEACHER   \n9  SCARLETT JOHANSSON@STUDENT   \n\n                                     facial_features                Name  \\\n0  [0.7201715, -1.4684149, -0.7781253, -1.4601073...         CHRIS EVANS   \n1  [-0.76971024, -0.6009586, 0.37804016, 0.709973...   Rabindra Adhikari   \n2  [-0.1276433, 0.39591247, 0.8043015, -0.3844852...            Sambhavi   \n3  [0.17581145, -1.6664165, 0.38029522, -0.294974...               james   \n4  [0.94858104, -0.5584052, 0.094820715, -1.27965...        BARACK OBAMA   \n5  [0.07459921, -0.674672, -0.580926, -0.903835, ...       Bharat Vinaju   \n6  [0.43242034, 1.0748498, -0.12862365, -1.833291...      ANGELINA JOLIE   \n7  [-1.1002836, -0.4793578, 2.1473532, 1.2260097,...            Rabindra   \n8  [0.48535103, -0.6192555, -0.4069932, 1.0687788...      MORGAN FREEMAN   \n9  [0.19131963, -0.48843804, -1.690233, 0.4423967...  SCARLETT JOHANSSON   \n\n      Role  \n0  STUDENT  \n1  Student  \n2  Student  \n3  Teacher  \n4  TEACHER  \n5  Teacher  \n6  STUDENT  \n7  Student  \n8  TEACHER  \n9  STUDENT  ",
      "text/html": "<div>\n<style scoped>\n    .dataframe tbody tr th:only-of-type {\n        vertical-align: middle;\n    }\n\n    .dataframe tbody tr th {\n        vertical-align: top;\n    }\n\n    .dataframe thead th {\n        text-align: right;\n    }\n</style>\n<table border=\"1\" class=\"dataframe\">\n  <thead>\n    <tr style=\"text-align: right;\">\n      <th></th>\n      <th>name_role</th>\n      <th>facial_features</th>\n      <th>Name</th>\n      <th>Role</th>\n    </tr>\n  </thead>\n  <tbody>\n    <tr>\n      <th>0</th>\n      <td>CHRIS EVANS@STUDENT</td>\n      <td>[0.7201715, -1.4684149, -0.7781253, -1.4601073...</td>\n      <td>CHRIS EVANS</td>\n      <td>STUDENT</td>\n    </tr>\n    <tr>\n      <th>1</th>\n      <td>Rabindra Adhikari@Student</td>\n      <td>[-0.76971024, -0.6009586, 0.37804016, 0.709973...</td>\n      <td>Rabindra Adhikari</td>\n      <td>Student</td>\n    </tr>\n    <tr>\n      <th>2</th>\n      <td>Sambhavi@Student</td>\n      <td>[-0.1276433, 0.39591247, 0.8043015, -0.3844852...</td>\n      <td>Sambhavi</td>\n      <td>Student</td>\n    </tr>\n    <tr>\n      <th>3</th>\n      <td>james@Teacher</td>\n      <td>[0.17581145, -1.6664165, 0.38029522, -0.294974...</td>\n      <td>james</td>\n      <td>Teacher</td>\n    </tr>\n    <tr>\n      <th>4</th>\n      <td>BARACK OBAMA@TEACHER</td>\n      <td>[0.94858104, -0.5584052, 0.094820715, -1.27965...</td>\n      <td>BARACK OBAMA</td>\n      <td>TEACHER</td>\n    </tr>\n    <tr>\n      <th>5</th>\n      <td>Bharat Vinaju@Teacher</td>\n      <td>[0.07459921, -0.674672, -0.580926, -0.903835, ...</td>\n      <td>Bharat Vinaju</td>\n      <td>Teacher</td>\n    </tr>\n    <tr>\n      <th>6</th>\n      <td>ANGELINA JOLIE@STUDENT</td>\n      <td>[0.43242034, 1.0748498, -0.12862365, -1.833291...</td>\n      <td>ANGELINA JOLIE</td>\n      <td>STUDENT</td>\n    </tr>\n    <tr>\n      <th>7</th>\n      <td>Rabindra@Student</td>\n      <td>[-1.1002836, -0.4793578, 2.1473532, 1.2260097,...</td>\n      <td>Rabindra</td>\n      <td>Student</td>\n    </tr>\n    <tr>\n      <th>8</th>\n      <td>MORGAN FREEMAN@TEACHER</td>\n      <td>[0.48535103, -0.6192555, -0.4069932, 1.0687788...</td>\n      <td>MORGAN FREEMAN</td>\n      <td>TEACHER</td>\n    </tr>\n    <tr>\n      <th>9</th>\n      <td>SCARLETT JOHANSSON@STUDENT</td>\n      <td>[0.19131963, -0.48843804, -1.690233, 0.4423967...</td>\n      <td>SCARLETT JOHANSSON</td>\n      <td>STUDENT</td>\n    </tr>\n  </tbody>\n</table>\n</div>"
     },
     "execution_count": 4,
     "metadata": {},
     "output_type": "execute_result"
    }
   ],
   "source": [
    "#extract data from database\n",
    "name = 'academy:register'\n",
    "retrive_dict = face_rec.r.hgetall(name)\n",
    "retrive_series = pd.Series(retrive_dict)\n",
    "retrive_series = retrive_series.apply(lambda x: np.frombuffer(x,dtype=np.float32))\n",
    "index = retrive_series.index\n",
    "index = list(map(lambda x: x.decode(), index))\n",
    "retrive_series.index = index\n",
    "retrive_df = retrive_series.to_frame().reset_index()\n",
    "retrive_df.columns = ['name_role','facial_features']\n",
    "retrive_df[['Name','Role']] = retrive_df['name_role'].apply(lambda x: x.split('@')).apply(pd.Series)\n",
    "\n",
    "retrive_df\n",
    "\n"
   ]
  },
  {
   "cell_type": "code",
   "execution_count": null,
   "id": "14f4a8ba-d16b-4d7f-8eab-774f0f501d75",
   "metadata": {
    "ExecuteTime": {
     "start_time": "2024-03-18T07:38:50.117701Z"
    }
   },
   "outputs": [],
   "source": [
    "cap = cv2.VideoCapture(0) \n",
    "while True:\n",
    "    ret, frame = cap.read()\n",
    "    if ret == False:\n",
    "        break\n",
    "\n",
    "    pred_frame = face_rec.face_prediction(frame,retrive_df,'facial_features',\n",
    "                                          ['Name','Role'],thresh=0.5)\n",
    "    cv2.imshow('frame',frame)\n",
    "    cv2.imshow('prediction',pred_frame)\n",
    "    \n",
    "    if cv2.waitKey(1) == 27:\n",
    "        break\n",
    "\n",
    "cv2.destroyALlWindows()\n",
    "cap.release()\n",
    "        \n",
    "\n",
    "    "
   ]
  },
  {
   "cell_type": "code",
   "execution_count": null,
   "id": "4c7c409e-d309-432b-bd40-465a31c954b3",
   "metadata": {
    "ExecuteTime": {
     "start_time": "2024-03-18T07:38:50.115610Z"
    }
   },
   "outputs": [],
   "source": []
  },
  {
   "cell_type": "code",
   "execution_count": null,
   "id": "98b4da0f-9f3e-4efb-b86d-74d8fb4fb3ff",
   "metadata": {
    "ExecuteTime": {
     "start_time": "2024-03-18T07:38:50.116694Z"
    }
   },
   "outputs": [],
   "source": []
  },
  {
   "cell_type": "code",
   "outputs": [],
   "source": [],
   "metadata": {
    "collapsed": false
   },
   "id": "806d16dcd3c1a886"
  }
 ],
 "metadata": {
  "kernelspec": {
   "display_name": "Python 3 (ipykernel)",
   "language": "python",
   "name": "python3"
  },
  "language_info": {
   "codemirror_mode": {
    "name": "ipython",
    "version": 3
   },
   "file_extension": ".py",
   "mimetype": "text/x-python",
   "name": "python",
   "nbconvert_exporter": "python",
   "pygments_lexer": "ipython3",
   "version": "3.10.0"
  }
 },
 "nbformat": 4,
 "nbformat_minor": 5
}
