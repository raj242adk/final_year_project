{
 "cells": [
  {
   "cell_type": "code",
   "execution_count": 1,
   "id": "43ee3f63-0415-48fb-9346-d2000af642a3",
   "metadata": {
    "ExecuteTime": {
     "end_time": "2024-03-18T07:34:33.162463Z",
     "start_time": "2024-03-18T07:34:32.421383Z"
    }
   },
   "outputs": [],
   "source": [
    "import numpy as np\n",
    "import pandas as pd\n",
    "import redis"
   ]
  },
  {
   "cell_type": "code",
   "execution_count": 2,
   "id": "10a0a774-2bdb-41b8-98bb-39aa31fd8ff2",
   "metadata": {
    "ExecuteTime": {
     "end_time": "2024-03-18T07:34:38.630375Z",
     "start_time": "2024-03-18T07:34:38.623802Z"
    }
   },
   "outputs": [],
   "source": [
    "#redis-12833.c264.ap-south-1-1.ec2.cloud.redislabs.com:12833\n",
    "#uDcCaTrv5WujZHanODLfW2yLSJSvNsqu\n",
    "hostname = 'redis-18220.c256.us-east-1-2.ec2.cloud.redislabs.com'\n",
    "portnumber = 18220\n",
    "password = 'iqRWpxHl9SC9FuZ7G7Bv82kZ0NBQfSND'\n",
    "\n",
    "r = redis.StrictRedis(host=hostname,\n",
    "                      port=portnumber,\n",
    "                      password=password)"
   ]
  },
  {
   "cell_type": "code",
   "execution_count": 3,
   "id": "01c45a25-c404-45c4-8629-ae9d9ae597d9",
   "metadata": {
    "ExecuteTime": {
     "end_time": "2024-03-18T07:34:44.371012Z",
     "start_time": "2024-03-18T07:34:41.270519Z"
    }
   },
   "outputs": [
    {
     "data": {
      "text/plain": "True"
     },
     "execution_count": 3,
     "metadata": {},
     "output_type": "execute_result"
    }
   ],
   "source": [
    "r.ping()"
   ]
  },
  {
   "cell_type": "code",
   "execution_count": 4,
   "id": "82177389-a834-46db-bf5b-6d9a67785819",
   "metadata": {
    "ExecuteTime": {
     "end_time": "2024-03-18T07:34:45.487975Z",
     "start_time": "2024-03-18T07:34:45.457892Z"
    }
   },
   "outputs": [
    {
     "data": {
      "text/plain": "                 Name     Role  \\\n0      ANGELINA JOLIE  STUDENT   \n1        BARACK OBAMA  TEACHER   \n2         CHRIS EVANS  STUDENT   \n3      MORGAN FREEMAN  TEACHER   \n4  SCARLETT JOHANSSON  STUDENT   \n\n                                     Facial_Features  \n0  [0.43242034, 1.0748498, -0.12862365, -1.833291...  \n1  [0.94858104, -0.5584052, 0.094820715, -1.27965...  \n2  [0.7201715, -1.4684149, -0.7781253, -1.4601073...  \n3  [0.48535103, -0.6192555, -0.4069932, 1.0687788...  \n4  [0.19131963, -0.48843804, -1.690233, 0.4423967...  ",
      "text/html": "<div>\n<style scoped>\n    .dataframe tbody tr th:only-of-type {\n        vertical-align: middle;\n    }\n\n    .dataframe tbody tr th {\n        vertical-align: top;\n    }\n\n    .dataframe thead th {\n        text-align: right;\n    }\n</style>\n<table border=\"1\" class=\"dataframe\">\n  <thead>\n    <tr style=\"text-align: right;\">\n      <th></th>\n      <th>Name</th>\n      <th>Role</th>\n      <th>Facial_Features</th>\n    </tr>\n  </thead>\n  <tbody>\n    <tr>\n      <th>0</th>\n      <td>ANGELINA JOLIE</td>\n      <td>STUDENT</td>\n      <td>[0.43242034, 1.0748498, -0.12862365, -1.833291...</td>\n    </tr>\n    <tr>\n      <th>1</th>\n      <td>BARACK OBAMA</td>\n      <td>TEACHER</td>\n      <td>[0.94858104, -0.5584052, 0.094820715, -1.27965...</td>\n    </tr>\n    <tr>\n      <th>2</th>\n      <td>CHRIS EVANS</td>\n      <td>STUDENT</td>\n      <td>[0.7201715, -1.4684149, -0.7781253, -1.4601073...</td>\n    </tr>\n    <tr>\n      <th>3</th>\n      <td>MORGAN FREEMAN</td>\n      <td>TEACHER</td>\n      <td>[0.48535103, -0.6192555, -0.4069932, 1.0687788...</td>\n    </tr>\n    <tr>\n      <th>4</th>\n      <td>SCARLETT JOHANSSON</td>\n      <td>STUDENT</td>\n      <td>[0.19131963, -0.48843804, -1.690233, 0.4423967...</td>\n    </tr>\n  </tbody>\n</table>\n</div>"
     },
     "execution_count": 4,
     "metadata": {},
     "output_type": "execute_result"
    }
   ],
   "source": [
    "#load the data (numpy zip)\n",
    "np_file = np.load('dataframe_students_teacher.npz',allow_pickle=True)\n",
    "x_values = np_file['arr_0']\n",
    "col_names = np_file['arr_1']\n",
    "\n",
    "df = pd.DataFrame(x_values,columns=col_names)\n",
    "df"
   ]
  },
  {
   "cell_type": "code",
   "execution_count": 5,
   "id": "1b885c6a-b1c5-44c2-b48e-4d655eacfb61",
   "metadata": {
    "ExecuteTime": {
     "end_time": "2024-03-18T07:34:47.187166Z",
     "start_time": "2024-03-18T07:34:47.146585Z"
    }
   },
   "outputs": [
    {
     "data": {
      "text/plain": "                 Name     Role  \\\n0      ANGELINA JOLIE  STUDENT   \n1        BARACK OBAMA  TEACHER   \n2         CHRIS EVANS  STUDENT   \n3      MORGAN FREEMAN  TEACHER   \n4  SCARLETT JOHANSSON  STUDENT   \n\n                                     Facial_Features  \\\n0  [0.43242034, 1.0748498, -0.12862365, -1.833291...   \n1  [0.94858104, -0.5584052, 0.094820715, -1.27965...   \n2  [0.7201715, -1.4684149, -0.7781253, -1.4601073...   \n3  [0.48535103, -0.6192555, -0.4069932, 1.0687788...   \n4  [0.19131963, -0.48843804, -1.690233, 0.4423967...   \n\n                    name_role  \n0      ANGELINA JOLIE@STUDENT  \n1        BARACK OBAMA@TEACHER  \n2         CHRIS EVANS@STUDENT  \n3      MORGAN FREEMAN@TEACHER  \n4  SCARLETT JOHANSSON@STUDENT  ",
      "text/html": "<div>\n<style scoped>\n    .dataframe tbody tr th:only-of-type {\n        vertical-align: middle;\n    }\n\n    .dataframe tbody tr th {\n        vertical-align: top;\n    }\n\n    .dataframe thead th {\n        text-align: right;\n    }\n</style>\n<table border=\"1\" class=\"dataframe\">\n  <thead>\n    <tr style=\"text-align: right;\">\n      <th></th>\n      <th>Name</th>\n      <th>Role</th>\n      <th>Facial_Features</th>\n      <th>name_role</th>\n    </tr>\n  </thead>\n  <tbody>\n    <tr>\n      <th>0</th>\n      <td>ANGELINA JOLIE</td>\n      <td>STUDENT</td>\n      <td>[0.43242034, 1.0748498, -0.12862365, -1.833291...</td>\n      <td>ANGELINA JOLIE@STUDENT</td>\n    </tr>\n    <tr>\n      <th>1</th>\n      <td>BARACK OBAMA</td>\n      <td>TEACHER</td>\n      <td>[0.94858104, -0.5584052, 0.094820715, -1.27965...</td>\n      <td>BARACK OBAMA@TEACHER</td>\n    </tr>\n    <tr>\n      <th>2</th>\n      <td>CHRIS EVANS</td>\n      <td>STUDENT</td>\n      <td>[0.7201715, -1.4684149, -0.7781253, -1.4601073...</td>\n      <td>CHRIS EVANS@STUDENT</td>\n    </tr>\n    <tr>\n      <th>3</th>\n      <td>MORGAN FREEMAN</td>\n      <td>TEACHER</td>\n      <td>[0.48535103, -0.6192555, -0.4069932, 1.0687788...</td>\n      <td>MORGAN FREEMAN@TEACHER</td>\n    </tr>\n    <tr>\n      <th>4</th>\n      <td>SCARLETT JOHANSSON</td>\n      <td>STUDENT</td>\n      <td>[0.19131963, -0.48843804, -1.690233, 0.4423967...</td>\n      <td>SCARLETT JOHANSSON@STUDENT</td>\n    </tr>\n  </tbody>\n</table>\n</div>"
     },
     "execution_count": 5,
     "metadata": {},
     "output_type": "execute_result"
    }
   ],
   "source": [
    "df['name_role'] = df['Name']+'@'+df['Role']\n",
    "df"
   ]
  },
  {
   "cell_type": "code",
   "execution_count": 6,
   "id": "e3b103cb-6e02-40f1-a1c9-1f69d3100b8f",
   "metadata": {
    "ExecuteTime": {
     "end_time": "2024-03-18T07:34:48.738307Z",
     "start_time": "2024-03-18T07:34:48.714869Z"
    }
   },
   "outputs": [
    {
     "data": {
      "text/plain": "5"
     },
     "execution_count": 6,
     "metadata": {},
     "output_type": "execute_result"
    }
   ],
   "source": [
    "records = df[['name_role','Facial_Features']].to_dict(orient='records')\n",
    "len(records)"
   ]
  },
  {
   "cell_type": "code",
   "execution_count": 7,
   "id": "28658c5f-80c0-42e5-a904-27c92479e2c7",
   "metadata": {
    "ExecuteTime": {
     "end_time": "2024-03-18T07:34:50.433826Z",
     "start_time": "2024-03-18T07:34:50.418209Z"
    }
   },
   "outputs": [],
   "source": [
    "#save dat in redis\n",
    "#redis hashes\n",
    "#keyname ='academy:register'"
   ]
  },
  {
   "cell_type": "code",
   "execution_count": 8,
   "id": "24c9401f-aebe-4980-805d-b3642a04b107",
   "metadata": {
    "ExecuteTime": {
     "end_time": "2024-03-18T07:34:52.621168Z",
     "start_time": "2024-03-18T07:34:51.307824Z"
    }
   },
   "outputs": [],
   "source": [
    "for record in records:\n",
    "    name_role = record['name_role']\n",
    "    vector = record['Facial_Features']\n",
    "    vector_bytes = vector.tobytes()\n",
    "    r.hset(name='academy:register',key=name_role,value=vector_bytes)"
   ]
  },
  {
   "cell_type": "code",
   "execution_count": 9,
   "id": "7120d340-2794-46be-9dc7-f9f143c18da4",
   "metadata": {
    "ExecuteTime": {
     "end_time": "2024-03-18T07:34:53.740242Z",
     "start_time": "2024-03-18T07:34:53.729373Z"
    }
   },
   "outputs": [],
   "source": [
    "##Registration Form"
   ]
  },
  {
   "cell_type": "code",
   "execution_count": 10,
   "id": "51cd0652-4bfe-4b66-84e6-5fed60a0bd3f",
   "metadata": {
    "ExecuteTime": {
     "end_time": "2024-03-18T07:34:57.492599Z",
     "start_time": "2024-03-18T07:34:55.229222Z"
    }
   },
   "outputs": [],
   "source": [
    "import cv2\n",
    "from insightface.app import FaceAnalysis"
   ]
  },
  {
   "cell_type": "code",
   "execution_count": 11,
   "id": "70edfa27-1e36-4137-b367-072487d79a45",
   "metadata": {
    "ExecuteTime": {
     "end_time": "2024-03-18T07:35:01.217545Z",
     "start_time": "2024-03-18T07:35:00.975082Z"
    }
   },
   "outputs": [
    {
     "name": "stdout",
     "output_type": "stream",
     "text": [
      "Applied providers: ['CPUExecutionProvider'], with options: {'CPUExecutionProvider': {}}\n",
      "find model: insightface_model\\models\\buffalo_sc\\det_500m.onnx detection [1, 3, '?', '?'] 127.5 128.0\n",
      "Applied providers: ['CPUExecutionProvider'], with options: {'CPUExecutionProvider': {}}\n",
      "find model: insightface_model\\models\\buffalo_sc\\w600k_mbf.onnx recognition ['None', 3, 112, 112] 127.5 127.5\n",
      "set det-size: (640, 640)\n"
     ]
    }
   ],
   "source": [
    "faceapp = FaceAnalysis(name='buffalo_sc',\n",
    "                       root='insightface_model',\n",
    "                       providers=['CPUExecutionProvider'])\n",
    "faceapp.prepare(ctx_id=0,det_size=(640,640),det_thresh=0.5)"
   ]
  },
  {
   "cell_type": "code",
   "execution_count": 12,
   "id": "843c5abf-4917-4b34-9eff-bb947a91ea57",
   "metadata": {
    "ExecuteTime": {
     "end_time": "2024-03-18T07:35:10.654588Z",
     "start_time": "2024-03-18T07:35:02.776209Z"
    }
   },
   "outputs": [
    {
     "name": "stdout",
     "output_type": "stream",
     "text": [
      "Your name =  Rabindra\n",
      "Your role = Student\n",
      "Key = Rabindra@Student\n"
     ]
    }
   ],
   "source": [
    "#python input\n",
    "\n",
    "person_name = input('Enter your name: ')\n",
    "\n",
    "trials = 3\n",
    "for i in range(trials):\n",
    "    role = input(\"\"\"\n",
    "    Please choose\n",
    "    1. Student\n",
    "    2. Teacher\n",
    "    Enter number either 1 or 2: \"\"\")\n",
    "    \n",
    "    if role in ('1', '2'):\n",
    "        if role == '1':\n",
    "            role = 'Student'\n",
    "        else:\n",
    "            role = 'Teacher'\n",
    "        break\n",
    "    else:\n",
    "        print('Invalid entry. Try again.')\n",
    "        if i == trials - 1:\n",
    "            print('Exceeds maximum trials')\n",
    "\n",
    "key = person_name + '@'+ role\n",
    "print('Your name = ',person_name)\n",
    "print('Your role =',role)\n",
    "print('Key =',key)\n"
   ]
  },
  {
   "cell_type": "markdown",
   "id": "6303e2b3-3324-448c-960c-ce6bc2291f8a",
   "metadata": {},
   "source": [
    "## collect Samples\n",
    "cap = cv2.VideoCapture(0)\n",
    "\n",
    "while True:\n",
    "    ret, frame = cap.read()\n",
    "    if ret == False:\n",
    "        print('Unable to read camera')\n",
    "        break\n",
    "    results = faceapp.get(frame,max_num=1)\n",
    "    for res in results:\n",
    "        samples += 1\n",
    "        x1,y1,x2,y2 = res['bbox'].astype(int)\n",
    "        cv2.rectangle(frame,(x1,y1),(x2,y2),(0,255,0),1)\n",
    "\n",
    "    if sample >= 200:\n",
    "        break\n",
    "    cv2.imshow('frame',frame)\n",
    "    if cv2.waitKey(1) == ord('q'):\n",
    "        break\n",
    "\n",
    "cap.release()\n",
    "cv2.destoryAllWindows()"
   ]
  },
  {
   "cell_type": "code",
   "execution_count": 13,
   "id": "40f0e88b-5b08-4167-8b61-ecb0506de2a5",
   "metadata": {
    "ExecuteTime": {
     "end_time": "2024-03-18T07:35:36.618124Z",
     "start_time": "2024-03-18T07:35:16.820549Z"
    }
   },
   "outputs": [],
   "source": [
    "cap = cv2.VideoCapture(0)\n",
    "face_embeddings = []\n",
    "sample = 0\n",
    "\n",
    "while True:\n",
    "    ret, frame = cap.read()\n",
    "    if ret == False:\n",
    "        print('Unable to read camera')\n",
    "        break\n",
    "\n",
    "    results = faceapp.get(frame, max_num=1)\n",
    "    for res in results:\n",
    "        sample += 1\n",
    "        x1, y1, x2, y2 = res['bbox'].astype(int)\n",
    "        cv2.rectangle(frame, (x1, y1), (x2, y2), (0, 255, 0), 1)\n",
    "        embedding = res['embedding']\n",
    "        face_embeddings.append(embedding)\n",
    "\n",
    "    if sample >= 200:\n",
    "        break\n",
    "\n",
    "    cv2.imshow('frame', frame)\n",
    "    if cv2.waitKey(1) == ord('q'):\n",
    "        break\n",
    "\n",
    "cap.release()\n",
    "cv2.destroyAllWindows()\n",
    "\n",
    "\n"
   ]
  },
  {
   "cell_type": "code",
   "execution_count": 14,
   "id": "9a44c88f-60ef-4d62-adc6-54f1aebf66b9",
   "metadata": {
    "ExecuteTime": {
     "end_time": "2024-03-18T07:35:39.145590Z",
     "start_time": "2024-03-18T07:35:39.128336Z"
    }
   },
   "outputs": [
    {
     "data": {
      "text/plain": "(512,)"
     },
     "execution_count": 14,
     "metadata": {},
     "output_type": "execute_result"
    }
   ],
   "source": [
    "x_mean = np.asarray(face_embeddings).mean(axis=0)\n",
    "x_mean.shape"
   ]
  },
  {
   "cell_type": "code",
   "execution_count": 15,
   "id": "9a035e2f-678a-4766-81d7-40e5a8da7aad",
   "metadata": {
    "ExecuteTime": {
     "end_time": "2024-03-18T07:35:41.536563Z",
     "start_time": "2024-03-18T07:35:41.523542Z"
    }
   },
   "outputs": [],
   "source": [
    "x_mean_bytes = x_mean.tobytes()"
   ]
  },
  {
   "cell_type": "code",
   "execution_count": 16,
   "id": "94222f05-328c-4e65-92ad-df105e9f3e6f",
   "metadata": {
    "ExecuteTime": {
     "end_time": "2024-03-18T07:35:43.461164Z",
     "start_time": "2024-03-18T07:35:43.185252Z"
    }
   },
   "outputs": [
    {
     "data": {
      "text/plain": "1"
     },
     "execution_count": 16,
     "metadata": {},
     "output_type": "execute_result"
    }
   ],
   "source": [
    "r.hset(name='academy:register',key=key,value=x_mean_bytes)"
   ]
  },
  {
   "cell_type": "code",
   "execution_count": 16,
   "id": "3975675f-c8d7-4c16-bc3f-8349fac28497",
   "metadata": {
    "ExecuteTime": {
     "end_time": "2024-03-18T07:35:49.065167Z",
     "start_time": "2024-03-18T07:35:49.046278Z"
    }
   },
   "outputs": [],
   "source": []
  },
  {
   "cell_type": "code",
   "outputs": [],
   "source": [],
   "metadata": {
    "collapsed": false,
    "ExecuteTime": {
     "end_time": "2024-03-06T17:10:16.376053Z",
     "start_time": "2024-03-06T17:10:16.361449Z"
    }
   },
   "id": "bb8e97a1192d1d90",
   "execution_count": 17
  }
 ],
 "metadata": {
  "kernelspec": {
   "display_name": "Python 3 (ipykernel)",
   "language": "python",
   "name": "python3"
  },
  "language_info": {
   "codemirror_mode": {
    "name": "ipython",
    "version": 3
   },
   "file_extension": ".py",
   "mimetype": "text/x-python",
   "name": "python",
   "nbconvert_exporter": "python",
   "pygments_lexer": "ipython3",
   "version": "3.10.0"
  }
 },
 "nbformat": 4,
 "nbformat_minor": 5
}
