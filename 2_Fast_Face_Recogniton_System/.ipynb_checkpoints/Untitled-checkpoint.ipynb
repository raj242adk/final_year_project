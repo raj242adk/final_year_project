{
 "cells": [
  {
   "cell_type": "code",
   "execution_count": 1,
   "id": "e4229572-73b6-482d-9c26-965540ee0f2c",
   "metadata": {},
   "outputs": [],
   "source": [
    "import os\n",
    "import cv2\n",
    "import numpy as np\n",
    "import pandas as pd\n",
    "\n",
    "from insightface.app import FaceAnalysis"
   ]
  },
  {
   "cell_type": "code",
   "execution_count": 3,
   "id": "62aea2f1-2818-4435-b259-69e46d8bf2bb",
   "metadata": {},
   "outputs": [
    {
     "name": "stdout",
     "output_type": "stream",
     "text": [
      "Applied providers: ['CPUExecutionProvider'], with options: {'CPUExecutionProvider': {}}\n",
      "find model: insightface_model\\models\\buffalo_sc\\det_500m.onnx detection [1, 3, '?', '?'] 127.5 128.0\n",
      "Applied providers: ['CPUExecutionProvider'], with options: {'CPUExecutionProvider': {}}\n",
      "find model: insightface_model\\models\\buffalo_sc\\w600k_mbf.onnx recognition ['None', 3, 112, 112] 127.5 127.5\n",
      "set det-size: (640, 640)\n"
     ]
    }
   ],
   "source": [
    "faceapp = FaceAnalysis(name='buffalo_sc',\n",
    "                       root='insightface_model',\n",
    "                       providers=['CPUExecutionProvider'])\n",
    "\n",
    "faceapp.prepare(ctx_id=0, det_size=(640,640), det_thresh=0.5)"
   ]
  },
  {
   "cell_type": "code",
   "execution_count": 10,
   "id": "972be75c-aa1f-4d6b-9f9f-3694b7728584",
   "metadata": {},
   "outputs": [],
   "source": [
    "import re"
   ]
  },
  {
   "cell_type": "code",
   "execution_count": 17,
   "id": "741b5f09-0fbc-4784-8688-f5cb8dc59c33",
   "metadata": {},
   "outputs": [],
   "source": [
    "def clean_name(string):\n",
    "    string = re.sub(r'[^A-Za-z]',' ',string)\n",
    "    string = string.upper()\n",
    "    return string\n"
   ]
  },
  {
   "cell_type": "code",
   "execution_count": 21,
   "id": "7e58a751-b9bd-40b7-a43f-aa4eb36de608",
   "metadata": {},
   "outputs": [
    {
     "name": "stdout",
     "output_type": "stream",
     "text": [
      "Role = STUDENT\tName = ANGELINA JOLIE\n",
      "./images/student-Angelina Jolie/angelina-1.jpeg\n",
      "./images/student-Angelina Jolie/angelina-10.jpeg\n",
      "./images/student-Angelina Jolie/angelina-2.jpeg\n",
      "./images/student-Angelina Jolie/angelina-3.jpeg\n",
      "./images/student-Angelina Jolie/angelina-4.jpeg\n",
      "./images/student-Angelina Jolie/angelina-5.jpeg\n",
      "./images/student-Angelina Jolie/angelina-6.jpeg\n",
      "./images/student-Angelina Jolie/angelina-7.jpeg\n",
      "./images/student-Angelina Jolie/angelina-8.jpeg\n",
      "./images/student-Angelina Jolie/angelina-9.jpeg\n",
      "Role = STUDENT\tName = CHRIS EVANS\n",
      "./images/student-Chris_Evans/evans_1.jpeg\n",
      "./images/student-Chris_Evans/evans_10.jpeg\n",
      "./images/student-Chris_Evans/evans_2.jpeg\n",
      "./images/student-Chris_Evans/evans_3.jpeg\n",
      "./images/student-Chris_Evans/evans_4.jpeg\n",
      "./images/student-Chris_Evans/evans_5.jpeg\n",
      "./images/student-Chris_Evans/evans_6.jpeg\n",
      "./images/student-Chris_Evans/evans_7.jpeg\n",
      "./images/student-Chris_Evans/evans_8.jpeg\n",
      "./images/student-Chris_Evans/evans_9.jpeg\n",
      "Role = STUDENT\tName = SCARLETT JOHANSSON\n",
      "./images/student-Scarlett Johansson/scarlet_10.jpeg\n",
      "./images/student-Scarlett Johansson/scarlet_13.jpeg\n",
      "./images/student-Scarlett Johansson/scarlet_14.jpeg\n",
      "./images/student-Scarlett Johansson/scarlet_17.jpeg\n",
      "./images/student-Scarlett Johansson/scarlet_18.jpeg\n",
      "./images/student-Scarlett Johansson/scarlet_20.jpeg\n",
      "./images/student-Scarlett Johansson/scarlet_25.jpeg\n",
      "./images/student-Scarlett Johansson/scarlet_31.jpeg\n",
      "./images/student-Scarlett Johansson/scarlet_4.jpeg\n",
      "./images/student-Scarlett Johansson/scarlet_7.jpeg\n",
      "Role = TEACHER\tName = BARACK OBAMA\n",
      "./images/teacher-Barack_Obama/obama_1.jpeg\n",
      "./images/teacher-Barack_Obama/obama_10.jpeg\n",
      "./images/teacher-Barack_Obama/obama_2.jpeg\n",
      "./images/teacher-Barack_Obama/obama_3.jpeg\n",
      "./images/teacher-Barack_Obama/obama_4.jpeg\n",
      "./images/teacher-Barack_Obama/obama_5.jpeg\n",
      "./images/teacher-Barack_Obama/obama_6.jpeg\n",
      "./images/teacher-Barack_Obama/obama_7.jpeg\n",
      "./images/teacher-Barack_Obama/obama_8.jpeg\n",
      "./images/teacher-Barack_Obama/obama_9.jpeg\n",
      "Role = TEACHER\tName = MORGAN FREEMAN\n",
      "./images/teacher-Morgan_Freeman/freeman_1.jpeg\n",
      "./images/teacher-Morgan_Freeman/freeman_10.jpeg\n",
      "./images/teacher-Morgan_Freeman/freeman_2.jpeg\n",
      "./images/teacher-Morgan_Freeman/freeman_3.jpeg\n",
      "./images/teacher-Morgan_Freeman/freeman_4.jpeg\n",
      "./images/teacher-Morgan_Freeman/freeman_5.jpeg\n",
      "./images/teacher-Morgan_Freeman/freeman_6.jpeg\n",
      "./images/teacher-Morgan_Freeman/freeman_7.jpeg\n",
      "./images/teacher-Morgan_Freeman/freeman_8.jpeg\n",
      "./images/teacher-Morgan_Freeman/freeman_9.jpeg\n"
     ]
    }
   ],
   "source": [
    "listdir = os.listdir(path='images')\n",
    "for folder_name in listdir:\n",
    "    role, name = folder_name.split('-')\n",
    "    name = clean_name(name)\n",
    "    role = clean_name(role)\n",
    "    print('Role =',role,end='\\t')\n",
    "    print('Name =', name)\n",
    "\n",
    "\n",
    "    img_files = os.listdir(path= f'images/{folder_name}')\n",
    "    for file in img_files:\n",
    "        path = f'./images/{folder_name}/{file}'\n",
    "        print(path)"
   ]
  },
  {
   "cell_type": "code",
   "execution_count": null,
   "id": "b537b16e-2891-475e-83c4-e00f37737bfa",
   "metadata": {},
   "outputs": [],
   "source": []
  },
  {
   "cell_type": "code",
   "execution_count": null,
   "id": "cdb36aa9-1658-4b7c-863a-30a6aa025cb9",
   "metadata": {},
   "outputs": [],
   "source": []
  },
  {
   "cell_type": "code",
   "execution_count": null,
   "id": "3999aee2-39a5-4d3a-9399-c06870562a51",
   "metadata": {},
   "outputs": [],
   "source": []
  },
  {
   "cell_type": "code",
   "execution_count": null,
   "id": "2940d824-8688-4a30-818a-e4ed961dc5e1",
   "metadata": {},
   "outputs": [],
   "source": []
  },
  {
   "cell_type": "code",
   "execution_count": null,
   "id": "845554d3-3c7d-4294-8d81-db735ecd5afe",
   "metadata": {},
   "outputs": [],
   "source": []
  }
 ],
 "metadata": {
  "kernelspec": {
   "display_name": "Python 3 (ipykernel)",
   "language": "python",
   "name": "python3"
  },
  "language_info": {
   "codemirror_mode": {
    "name": "ipython",
    "version": 3
   },
   "file_extension": ".py",
   "mimetype": "text/x-python",
   "name": "python",
   "nbconvert_exporter": "python",
   "pygments_lexer": "ipython3",
   "version": "3.10.9"
  }
 },
 "nbformat": 4,
 "nbformat_minor": 5
}
