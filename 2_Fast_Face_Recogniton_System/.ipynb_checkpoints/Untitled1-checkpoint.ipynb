{
 "cells": [
  {
   "cell_type": "raw",
   "source": [],
   "metadata": {
    "collapsed": false
   },
   "id": "3793ee6f2acaf302"
  }
 ],
 "metadata": {},
 "nbformat": 4,
 "nbformat_minor": 5
}
