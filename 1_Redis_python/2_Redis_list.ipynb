{
 "cells": [
  {
   "cell_type": "code",
   "execution_count": null,
   "id": "34453caa-f938-4569-8639-9b0ebc7824f2",
   "metadata": {},
   "outputs": [],
   "source": [
    "import redis"
   ]
  },
  {
   "cell_type": "code",
   "execution_count": null,
   "id": "e15db072-7e93-445c-aa9d-b39f18784aa5",
   "metadata": {},
   "outputs": [],
   "source": [
    "hostname = 'redis-16948.c212.ap-south-1-1.ec2.cloud.redislabs.com'\n",
    "port = 16948\n",
    "password = 'A9IKOpgi7pu0ldGLmKBzOMjwaTbesA1w'\n",
    "\n",
    "r = redis.Redis(\n",
    "    host=hostname,\n",
    "    port=port,\n",
    "    password=password)"
   ]
  },
  {
   "cell_type": "code",
   "execution_count": null,
   "id": "1007fd2e-f07a-43c6-8e75-1f0247f398e8",
   "metadata": {},
   "outputs": [],
   "source": [
    "r.ping()"
   ]
  },
  {
   "cell_type": "code",
   "execution_count": null,
   "id": "0ebf9143-18b5-4237-a350-c0d3bda3ba24",
   "metadata": {},
   "outputs": [],
   "source": [
    "r.lpush('mylist','valuse_1') #this will create list with name mylist and with value value_1"
   ]
  },
  {
   "cell_type": "code",
   "execution_count": null,
   "id": "ffd94ea7-b099-4eda-854d-d3e8d533e51f",
   "metadata": {},
   "outputs": [],
   "source": [
    "r.lindex(name='mylist',index=0)"
   ]
  },
  {
   "cell_type": "code",
   "execution_count": null,
   "id": "6817e1ff-a73d-499e-8f3e-f19e2adf9b1c",
   "metadata": {},
   "outputs": [],
   "source": [
    "r.lrange(name='mylist',start=0,end=0)"
   ]
  },
  {
   "cell_type": "code",
   "execution_count": null,
   "id": "b6c22a46-a44a-4de8-81c4-0c750278d2ab",
   "metadata": {},
   "outputs": [],
   "source": [
    "r.lpush('mylist','value_2')"
   ]
  },
  {
   "cell_type": "code",
   "execution_count": null,
   "id": "7fa25a31-06f4-4915-b7fd-dd79268c3541",
   "metadata": {},
   "outputs": [],
   "source": [
    "r.lrange('mylist',0,-1)"
   ]
  },
  {
   "cell_type": "code",
   "execution_count": null,
   "id": "a89e8019-0a30-4874-be0a-15cbf6b00342",
   "metadata": {},
   "outputs": [],
   "source": [
    "r.rpush('mylist','value_3','value_4')"
   ]
  },
  {
   "cell_type": "code",
   "execution_count": null,
   "id": "b9b766b5-1bf2-463e-af3e-a83cb523b329",
   "metadata": {},
   "outputs": [],
   "source": [
    "r.lrange('mylist',0,-1)"
   ]
  },
  {
   "cell_type": "code",
   "execution_count": null,
   "id": "159fe6ac-5ce0-4b81-8a56-82707905190d",
   "metadata": {},
   "outputs": [],
   "source": [
    "r.keys('*')"
   ]
  },
  {
   "cell_type": "code",
   "execution_count": null,
   "id": "fefd7831-9669-4c53-8084-7f033edd23c6",
   "metadata": {},
   "outputs": [],
   "source": [
    "r.lpushx('mylist1','somevalue')"
   ]
  },
  {
   "cell_type": "code",
   "execution_count": null,
   "id": "66d474c3-59c2-4e76-a5da-32fbc54d6c4a",
   "metadata": {},
   "outputs": [],
   "source": [
    "r.lrange('mylist',0,1)"
   ]
  },
  {
   "cell_type": "code",
   "execution_count": null,
   "id": "b156ada2-3b88-40dc-8d79-7489c04bdfbe",
   "metadata": {},
   "outputs": [],
   "source": [
    "r.linsert('mylist',where='before',refvalue='value_1',value='sudheer')"
   ]
  },
  {
   "cell_type": "code",
   "execution_count": null,
   "id": "ae3dcb3b-79a9-40bb-b3d1-b43e4e284466",
   "metadata": {},
   "outputs": [],
   "source": [
    "r.lrange('mylist',-1,0)"
   ]
  },
  {
   "cell_type": "code",
   "execution_count": null,
   "id": "1668a4c0-2423-4b30-99b4-6a571dbd0dd3",
   "metadata": {},
   "outputs": [],
   "source": [
    "r.lpop('mylist')"
   ]
  },
  {
   "cell_type": "code",
   "execution_count": null,
   "id": "f8a00c9b-388b-4a4f-80db-925fe3efd751",
   "metadata": {},
   "outputs": [],
   "source": [
    "print(r.lrange('mylist',0,-1))"
   ]
  },
  {
   "cell_type": "code",
   "execution_count": null,
   "id": "c4bbd1e2-d111-4f0e-905f-6023fb0e08d7",
   "metadata": {},
   "outputs": [],
   "source": [
    "r.rpop('mylist')"
   ]
  },
  {
   "cell_type": "code",
   "execution_count": null,
   "id": "9230c683-0fdb-433c-b371-cdaa4dcfeba0",
   "metadata": {},
   "outputs": [],
   "source": [
    "r.lrem('mylist',count=0,value='value_3')\n",
    "r.lrange('mylist',0,-1)"
   ]
  },
  {
   "cell_type": "code",
   "execution_count": null,
   "id": "ba52b7e4-4e10-4f60-bbd0-49748b7d044c",
   "metadata": {},
   "outputs": [],
   "source": [
    "r.rpush('mylist1',*('ele1','ele2','ele3'))\n",
    "print(r.lrange('mylist1',0,-1))"
   ]
  },
  {
   "cell_type": "code",
   "execution_count": null,
   "id": "942856ad-ff5d-49ad-be73-c669eecfd23c",
   "metadata": {},
   "outputs": [],
   "source": [
    "r.delete('mylist1')"
   ]
  },
  {
   "cell_type": "code",
   "execution_count": null,
   "id": "00c2c3a0-c17a-456e-a4ac-d28164236f0f",
   "metadata": {},
   "outputs": [],
   "source": [
    "print(r.lrange('mylist1',0,-1))"
   ]
  },
  {
   "cell_type": "code",
   "execution_count": null,
   "id": "673f698c-5950-4078-b9bc-828f7215cae5",
   "metadata": {},
   "outputs": [],
   "source": [
    "r.llen('mylist')"
   ]
  },
  {
   "cell_type": "code",
   "execution_count": null,
   "id": "860a7feb-b491-4859-a364-3ae8b1621fd3",
   "metadata": {},
   "outputs": [],
   "source": [
    "print(r.lrange('mylist',0,-1))"
   ]
  },
  {
   "cell_type": "code",
   "execution_count": null,
   "id": "a9f59efd-713b-4b17-840e-45680c540583",
   "metadata": {},
   "outputs": [],
   "source": [
    "r.lpos('mylist',value='ele2')"
   ]
  },
  {
   "cell_type": "code",
   "execution_count": null,
   "id": "3badb398-477a-4ae5-b373-0ae4f3ee21ad",
   "metadata": {},
   "outputs": [],
   "source": [
    "r.ltrim('mylist',start=0,end=2)\n",
    "print(r.lrange('mylist',0,-1))"
   ]
  },
  {
   "cell_type": "code",
   "execution_count": null,
   "id": "1ab29beb-3881-49a8-b31a-626ed81d854c",
   "metadata": {},
   "outputs": [],
   "source": [
    "print(r.lrange('mylist',0,-1))\n",
    "r.rpush('mylist1',*('ele1','ele2','ele3'))\n",
    "print(r.lrange('mylist1',0,-1))"
   ]
  },
  {
   "cell_type": "code",
   "execution_count": null,
   "id": "9317c556-e1da-4861-9264-1e8a6d0f48e1",
   "metadata": {},
   "outputs": [],
   "source": [
    "r.lmove('mylist','mylist1',src='LEFT',dest='RIGHT')"
   ]
  },
  {
   "cell_type": "code",
   "execution_count": null,
   "id": "b73c0fc0-3f38-4a49-b111-8a25037bd46e",
   "metadata": {},
   "outputs": [],
   "source": [
    "print(r.lrange('mylist1',0,-1))"
   ]
  },
  {
   "cell_type": "code",
   "execution_count": null,
   "id": "973808fb-ccc5-4457-8cb2-77a4f81f9c59",
   "metadata": {},
   "outputs": [],
   "source": []
  }
 ],
 "metadata": {
  "kernelspec": {
   "display_name": "Python 3 (ipykernel)",
   "language": "python",
   "name": "python3"
  },
  "language_info": {
   "codemirror_mode": {
    "name": "ipython",
    "version": 3
   },
   "file_extension": ".py",
   "mimetype": "text/x-python",
   "name": "python",
   "nbconvert_exporter": "python",
   "pygments_lexer": "ipython3",
   "version": "3.10.0"
  }
 },
 "nbformat": 4,
 "nbformat_minor": 5
}
