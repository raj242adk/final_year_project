{
 "cells": [
  {
   "cell_type": "code",
   "execution_count": null,
   "id": "879aafe6-da24-47bd-b0af-945ee46ce5b8",
   "metadata": {
    "is_executing": true
   },
   "outputs": [],
   "source": [
    "import redis"
   ]
  },
  {
   "cell_type": "code",
   "execution_count": null,
   "id": "6db964e9-c662-4e9c-96be-fd7b5bf960c3",
   "metadata": {
    "is_executing": true
   },
   "outputs": [],
   "source": [
    "hostname = 'redis-16948.c212.ap-south-1-1.ec2.cloud.redislabs.com'\n",
    "port = 16948\n",
    "password = 'A9IKOpgi7pu0ldGLmKBzOMjwaTbesA1w'\n",
    "\n",
    "r = redis.Redis(\n",
    "    host=hostname,\n",
    "    port=port,\n",
    "    password=password)"
   ]
  },
  {
   "cell_type": "code",
   "execution_count": 3,
   "id": "3751c153-0e2a-4817-bc33-654060d12ee0",
   "metadata": {},
   "outputs": [
    {
     "ename": "NameError",
     "evalue": "name 'get' is not defined",
     "output_type": "error",
     "traceback": [
      "\u001B[1;31m----------------------------------------------------------------\u001B[0m",
      "\u001B[1;31mNameError\u001B[0m                      Traceback (most recent call last)",
      "Cell \u001B[1;32mIn[3], line 3\u001B[0m\n\u001B[0;32m      1\u001B[0m \u001B[38;5;66;03m##Redis string \u001B[39;00m\n\u001B[0;32m      2\u001B[0m \u001B[38;5;28mset\u001B[39m\n\u001B[1;32m----> 3\u001B[0m \u001B[43mget\u001B[49m\n",
      "\u001B[1;31mNameError\u001B[0m: name 'get' is not defined"
     ]
    }
   ],
   "source": [
    "##Redis string \n",
    "set\n",
    "get"
   ]
  },
  {
   "cell_type": "code",
   "execution_count": 4,
   "id": "eed75b96-11f6-490f-869c-ef81b09f0971",
   "metadata": {},
   "outputs": [
    {
     "data": {
      "text/plain": [
       "True"
      ]
     },
     "execution_count": 4,
     "metadata": {},
     "output_type": "execute_result"
    }
   ],
   "source": [
    "r.set(name = 'fool', value='bar')"
   ]
  },
  {
   "cell_type": "code",
   "execution_count": 5,
   "id": "587a1fea-2177-449c-99e4-f603bca3be50",
   "metadata": {},
   "outputs": [
    {
     "data": {
      "text/plain": [
       "b'bar'"
      ]
     },
     "execution_count": 5,
     "metadata": {},
     "output_type": "execute_result"
    }
   ],
   "source": [
    "r.get(name='fool')"
   ]
  },
  {
   "cell_type": "code",
   "execution_count": 6,
   "id": "3be0b6d1-a527-4628-a319-357bd25648d1",
   "metadata": {},
   "outputs": [
    {
     "data": {
      "text/plain": [
       "[b'HI', b'MESSAGE', b'fool', b'mykey1', b'KEY']"
      ]
     },
     "execution_count": 6,
     "metadata": {},
     "output_type": "execute_result"
    }
   ],
   "source": [
    "r.keys()"
   ]
  },
  {
   "cell_type": "code",
   "execution_count": null,
   "id": "98cc0685-cbb2-40b0-8f05-bd1e7fc1412c",
   "metadata": {},
   "outputs": [],
   "source": []
  }
 ],
 "metadata": {
  "kernelspec": {
   "display_name": "Python 3 (ipykernel)",
   "language": "python",
   "name": "python3"
  },
  "language_info": {
   "codemirror_mode": {
    "name": "ipython",
    "version": 3
   },
   "file_extension": ".py",
   "mimetype": "text/x-python",
   "name": "python",
   "nbconvert_exporter": "python",
   "pygments_lexer": "ipython3",
   "version": "3.10.9"
  }
 },
 "nbformat": 4,
 "nbformat_minor": 5
}
